{
 "cells": [
  {
   "cell_type": "code",
   "execution_count": null,
   "id": "81bece21",
   "metadata": {},
   "outputs": [],
   "source": [
    "2+2"
   ]
  },
  {
   "cell_type": "code",
   "execution_count": null,
   "id": "2a8565a3",
   "metadata": {},
   "outputs": [],
   "source": [
    "print(\"Hello, World\")"
   ]
  },
  {
   "cell_type": "code",
   "execution_count": null,
   "id": "ce488e2b",
   "metadata": {},
   "outputs": [],
   "source": [
    "nome = imput(\"qual é o seu nome?\")\n",
    "print(\"Olá, \" +  nome + \"!\")"
   ]
  },
  {
   "cell_type": "code",
   "execution_count": null,
   "id": "e89bf406",
   "metadata": {},
   "outputs": [],
   "source": [
    "nome = imput(\"qual é o seu nome?\")"
   ]
  },
  {
   "cell_type": "code",
   "execution_count": null,
   "id": "2f5c3c6b",
   "metadata": {},
   "outputs": [],
   "source": [
    "nome = input(\"qual é o seu nome?\")\n",
    "print(\"Olá, \" +  nome + \"!\")"
   ]
  },
  {
   "cell_type": "markdown",
   "id": "59e8325e",
   "metadata": {},
   "source": []
  }
 ],
 "metadata": {
  "kernelspec": {
   "display_name": "Python 3 (ipykernel)",
   "language": "python",
   "name": "python3"
  },
  "language_info": {
   "codemirror_mode": {
    "name": "ipython",
    "version": 3
   },
   "file_extension": ".py",
   "mimetype": "text/x-python",
   "name": "python",
   "nbconvert_exporter": "python",
   "pygments_lexer": "ipython3",
   "version": "3.10.9"
  }
 },
 "nbformat": 4,
 "nbformat_minor": 5
}
