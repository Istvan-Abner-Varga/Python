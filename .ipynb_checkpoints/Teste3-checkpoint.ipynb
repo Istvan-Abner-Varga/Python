{
 "cells": [
  {
   "cell_type": "markdown",
   "id": "4a03641e",
   "metadata": {},
   "source": [
    "Criar uma lista com os numeros entre 1 a 180 e então imprima os numeros pares, mas somente se for divisivel por 7, usando list comprehension"
   ]
  },
  {
   "cell_type": "code",
   "execution_count": 2,
   "id": "8b8a4eb3",
   "metadata": {},
   "outputs": [
    {
     "name": "stdout",
     "output_type": "stream",
     "text": [
      "[7, 21, 35, 49, 63, 77, 91, 105, 119, 133, 147, 161, 175]\n"
     ]
    }
   ],
   "source": [
    "# Cria uma lista com os numeros entre 1 e 180\n",
    "numeros = list(range(1, 181))\n",
    "\n",
    "# Usa a list comprehension para gerar uma lista somente com os numeros pares e divisiveis por 7\n",
    "pares_div4 = [numero for numero in numeros if numero % 2 != 0 and numero % 7 == 0]\n",
    "\n",
    "# Imprime a lista gerada\n",
    "print(pares_div4)"
   ]
  },
  {
   "cell_type": "markdown",
   "id": "6e6cf9e9",
   "metadata": {},
   "source": [
    "# Fim"
   ]
  },
  {
   "cell_type": "code",
   "execution_count": null,
   "id": "e61a6836",
   "metadata": {},
   "outputs": [],
   "source": []
  }
 ],
 "metadata": {
  "kernelspec": {
   "display_name": "Python 3 (ipykernel)",
   "language": "python",
   "name": "python3"
  },
  "language_info": {
   "codemirror_mode": {
    "name": "ipython",
    "version": 3
   },
   "file_extension": ".py",
   "mimetype": "text/x-python",
   "name": "python",
   "nbconvert_exporter": "python",
   "pygments_lexer": "ipython3",
   "version": "3.10.9"
  }
 },
 "nbformat": 4,
 "nbformat_minor": 5
}
