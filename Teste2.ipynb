{
 "cells": [
  {
   "cell_type": "markdown",
   "id": "02d45427",
   "metadata": {},
   "source": [
    "Criar uma lista com os numeros entre 1 a 100 e então imprima os numeros pares, mas somente se for divisivel por 4"
   ]
  },
  {
   "cell_type": "code",
   "execution_count": 12,
   "id": "4e98b4dd",
   "metadata": {},
   "outputs": [
    {
     "name": "stdout",
     "output_type": "stream",
     "text": [
      "4\n",
      "8\n",
      "12\n",
      "16\n",
      "20\n",
      "24\n",
      "28\n",
      "32\n",
      "36\n",
      "40\n",
      "44\n",
      "48\n",
      "52\n",
      "56\n",
      "60\n",
      "64\n",
      "68\n",
      "72\n",
      "76\n",
      "80\n",
      "84\n",
      "88\n",
      "92\n",
      "96\n"
     ]
    }
   ],
   "source": [
    "# Cria uma lista com os numeros entre 1 a 100\n",
    "numeros = list(range(1, 100))\n",
    "for numero in numeros:\n",
    "    if numero % 2 == 0 and numero % 4 == 0:\n",
    "        print(numero)\n",
    "        \n",
    "#Nota-se que o valor foi até \"96\" ao inves de \"100\""
   ]
  },
  {
   "cell_type": "code",
   "execution_count": 13,
   "id": "178cb26d",
   "metadata": {},
   "outputs": [
    {
     "name": "stdout",
     "output_type": "stream",
     "text": [
      "4\n",
      "8\n",
      "12\n",
      "16\n",
      "20\n",
      "24\n",
      "28\n",
      "32\n",
      "36\n",
      "40\n",
      "44\n",
      "48\n",
      "52\n",
      "56\n",
      "60\n",
      "64\n",
      "68\n",
      "72\n",
      "76\n",
      "80\n",
      "84\n",
      "88\n",
      "92\n",
      "96\n",
      "100\n"
     ]
    }
   ],
   "source": [
    "# Cria uma lista com os numeros entre 1 a 100\n",
    "numeros = list(range(1, 101))\n",
    "# Nota-se que coloquei \"101\" ao inves de \"100\" isso porque o numero \"100\" é exclusivo, logo, não apareceria ma lista\n",
    "# \"list\" = listar os numeros\n",
    "# \"range\" = Faixa de numeros\n",
    "\n",
    "# Percorre a lista e verifica se o numero é par e divisivel por 4\n",
    "for numero in numeros: \n",
    "    if numero % 2 == 0 and numero % 4 == 0:\n",
    "        print(numero)\n",
    "# PARA cada NUMERO DENTRO da lista \"NUMEROS\":\n",
    "# SE o numero é DIVISIVEL por 2 E DIVISIVEL por 4, então faça algo (:)\n",
    "# MOSTRE esses NUMEROS (print[numero])"
   ]
  },
  {
   "cell_type": "code",
   "execution_count": null,
   "id": "801b7173",
   "metadata": {},
   "outputs": [],
   "source": []
  },
  {
   "cell_type": "code",
   "execution_count": null,
   "id": "b3ee5767",
   "metadata": {},
   "outputs": [],
   "source": []
  }
 ],
 "metadata": {
  "kernelspec": {
   "display_name": "Python 3 (ipykernel)",
   "language": "python",
   "name": "python3"
  },
  "language_info": {
   "codemirror_mode": {
    "name": "ipython",
    "version": 3
   },
   "file_extension": ".py",
   "mimetype": "text/x-python",
   "name": "python",
   "nbconvert_exporter": "python",
   "pygments_lexer": "ipython3",
   "version": "3.10.9"
  }
 },
 "nbformat": 4,
 "nbformat_minor": 5
}
